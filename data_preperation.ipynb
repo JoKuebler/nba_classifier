{
 "cells": [
  {
   "cell_type": "code",
   "execution_count": 51,
   "metadata": {},
   "outputs": [],
   "source": [
    "import pandas as pd\n",
    "\n",
    "# Read in CSV File\n",
    "# season_box = pd.read_csv('data/box_scores/season_box_scores_20182019.csv', converters={'GAME_ID': str, 'TEAM_ABBREVIATION': str}, index_col=False)\n",
    "# season_games = pd.read_csv('data/games/season_games_20182019.csv', converters={'Game_ID': str, 'TEAM_ABBREVIATION': str}, index_col=False)\\\n",
    "\n",
    "# season_box = pd.read_csv('data/box_scores/season_box_scores_20192020.csv',\n",
    "#                          converters={'GAME_ID': str, 'TEAM_ABBREVIATION': str}, index_col=False)\n",
    "# season_games = pd.read_csv('data/games/season_games_20192020.csv', converters={'Game_ID': str, 'TEAM_ABBREVIATION': str}, index_col=False)\\\n",
    "    \n",
    "season_box = pd.read_csv('data/box_scores/season_box_scores_20202021.csv',\n",
    "                         converters={'GAME_ID': str, 'TEAM_ABBREVIATION': str}, index_col=False)\n",
    "season_games = pd.read_csv('data/games/season_games_20202021.csv', converters={'Game_ID': str, 'TEAM_ABBREVIATION': str}, index_col=False)\\\n",
    "\n",
    "# Define columns to keep from games dataframe\n",
    "col_keep = ['W_PCT', 'FG_PCT', 'FG3_PCT',\n",
    "            'FT_PCT', 'OREB', 'AST', 'STL', 'BLK', 'TOV']\n"
   ]
  },
  {
   "cell_type": "code",
   "execution_count": 52,
   "metadata": {},
   "outputs": [],
   "source": [
    "# Delete all rows where TEAM_CITY and TEAM_CITY_NAME are not the same\n",
    "# Error in Data Loading\n",
    "season_box = season_box[season_box['TEAM_CITY'] == season_box['TEAM_CITY_NAME']]"
   ]
  },
  {
   "cell_type": "code",
   "execution_count": 53,
   "metadata": {},
   "outputs": [],
   "source": [
    "# Group by GAME_ID in season_20_21_box and keep only first two rows\n",
    "season_box = season_box.groupby(\n",
    "    'GAME_ID').head(2).reset_index(drop=True)\n",
    "# Write to csv\n",
    "pd.DataFrame.to_csv(season_box, 'tmp.csv', index=False)\n"
   ]
  },
  {
   "cell_type": "code",
   "execution_count": 54,
   "metadata": {},
   "outputs": [],
   "source": [
    "# Remove columns not needed\n",
    "season_box.drop(['LEAGUE_ID', 'TEAM_ID', 'TEAM_CITY', 'GAME_DATE_EST', 'GAME_SEQUENCE',\n",
    "                 'TEAM_ID.1', 'TEAM_ABBREVIATION.1', 'TEAM_CITY_NAME', 'TEAM_NICKNAME', 'TEAM_WINS_LOSSES', 'TEAM_TURNOVERS', 'TOTAL_TURNOVERS'], axis=1, inplace=True)\n"
   ]
  },
  {
   "cell_type": "code",
   "execution_count": 55,
   "metadata": {},
   "outputs": [
    {
     "name": "stdout",
     "output_type": "stream",
     "text": [
      "<class 'pandas.core.frame.DataFrame'>\n",
      "RangeIndex: 1056 entries, 0 to 1055\n",
      "Data columns (total 25 columns):\n",
      " #   Column             Non-Null Count  Dtype \n",
      "---  ------             --------------  ----- \n",
      " 0   TEAM_ABBREVIATION  1056 non-null   object\n",
      " 1   PTS_PAINT          1056 non-null   int64 \n",
      " 2   PTS_2ND_CHANCE     1056 non-null   int64 \n",
      " 3   PTS_FB             1056 non-null   int64 \n",
      " 4   LARGEST_LEAD       1056 non-null   int64 \n",
      " 5   LEAD_CHANGES       1056 non-null   int64 \n",
      " 6   TIMES_TIED         1056 non-null   int64 \n",
      " 7   TEAM_REBOUNDS      1056 non-null   int64 \n",
      " 8   PTS_OFF_TO         1056 non-null   int64 \n",
      " 9   GAME_ID            1056 non-null   object\n",
      " 10  PTS_QTR1           1056 non-null   int64 \n",
      " 11  PTS_QTR2           1056 non-null   int64 \n",
      " 12  PTS_QTR3           1056 non-null   int64 \n",
      " 13  PTS_QTR4           1056 non-null   int64 \n",
      " 14  PTS_OT1            1056 non-null   int64 \n",
      " 15  PTS_OT2            1056 non-null   int64 \n",
      " 16  PTS_OT3            1056 non-null   int64 \n",
      " 17  PTS_OT4            1056 non-null   int64 \n",
      " 18  PTS_OT5            1056 non-null   int64 \n",
      " 19  PTS_OT6            1056 non-null   int64 \n",
      " 20  PTS_OT7            1056 non-null   int64 \n",
      " 21  PTS_OT8            1056 non-null   int64 \n",
      " 22  PTS_OT9            1056 non-null   int64 \n",
      " 23  PTS_OT10           1056 non-null   int64 \n",
      " 24  PTS                1056 non-null   int64 \n",
      "dtypes: int64(23), object(2)\n",
      "memory usage: 206.4+ KB\n"
     ]
    }
   ],
   "source": [
    "season_box.head()\n",
    "season_box.info()"
   ]
  },
  {
   "cell_type": "code",
   "execution_count": 56,
   "metadata": {},
   "outputs": [],
   "source": [
    "# Get unique values of Game_ID column in season_20_21_games\n",
    "game_ids = season_games['Game_ID'].unique()\n",
    "\n",
    "season_box_ext = pd.DataFrame(columns=season_box.columns)\n",
    "\n",
    "for id in game_ids:\n",
    "    # Get all rows with id in Game_ID column\n",
    "    df_game = season_games[season_games['Game_ID'] == id]\n",
    "    # Split MATCHUP column string at 'vs.' and strip whitespace\n",
    "    matchup_split = df_game.iloc[0]['MATCHUP'].split(' ')\n",
    "    team_one = matchup_split[0].strip()\n",
    "    team_two = matchup_split[2].strip()\n",
    "    # Drop columns not in col_keep\n",
    "    df_game = df_game[col_keep]\n",
    "    # Make new dataframe out of both rows\n",
    "    df_team_one = df_game.iloc[0:1]\n",
    "    df_team_two = df_game.iloc[1:2]\n",
    "    # # Get row matching TEAM_ABBREVIATION and GAME_ID from season_box\n",
    "    match_row_one = season_box[(season_box['TEAM_ABBREVIATION'] == team_one) & (\n",
    "        season_box['GAME_ID'] == id)]\n",
    "    match_row_two = season_box[(season_box['TEAM_ABBREVIATION'] == team_two) & (\n",
    "        season_box['GAME_ID'] == id)]\n",
    "    # Check if match row one is empty\n",
    "    if match_row_one.empty or match_row_two.empty:\n",
    "        continue\n",
    "    # Reset index\n",
    "    match_row_one.reset_index(drop=True, inplace=True)\n",
    "    match_row_two.reset_index(drop=True, inplace=True)\n",
    "    df_team_one.reset_index(drop=True, inplace=True)\n",
    "    df_team_two.reset_index(drop=True, inplace=True)\n",
    "    # Concat match_row with df_teams and\n",
    "    df_match_row_one = pd.concat([match_row_one, df_team_one], axis=1)\n",
    "    df_match_row_two = pd.concat([match_row_two, df_team_two], axis=1)\n",
    "    # Concat to season_box_ext\n",
    "    season_box_ext = pd.concat(\n",
    "        [season_box_ext, df_match_row_one, df_match_row_two])\n",
    "    "
   ]
  },
  {
   "cell_type": "code",
   "execution_count": 57,
   "metadata": {},
   "outputs": [],
   "source": [
    "# write season_box_ext to csv\n",
    "season_box_ext.to_csv(\n",
    "    'data/box_scores/season_box_ext_20202021.csv', index=False)\n"
   ]
  }
 ],
 "metadata": {
  "kernelspec": {
   "display_name": "Python 3",
   "language": "python",
   "name": "python3"
  },
  "language_info": {
   "codemirror_mode": {
    "name": "ipython",
    "version": 3
   },
   "file_extension": ".py",
   "mimetype": "text/x-python",
   "name": "python",
   "nbconvert_exporter": "python",
   "pygments_lexer": "ipython3",
   "version": "3.11.2"
  },
  "orig_nbformat": 4,
  "vscode": {
   "interpreter": {
    "hash": "aee8b7b246df8f9039afb4144a1f6fd8d2ca17a180786b69acc140d282b71a49"
   }
  }
 },
 "nbformat": 4,
 "nbformat_minor": 2
}
