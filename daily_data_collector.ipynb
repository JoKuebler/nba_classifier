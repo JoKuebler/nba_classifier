{
 "cells": [
  {
   "cell_type": "code",
   "execution_count": 63,
   "metadata": {},
   "outputs": [
    {
     "name": "stdout",
     "output_type": "stream",
     "text": [
      "[['0022301164', 1], ['0022301159', 1], ['0022301160', 1], ['0022301163', 1], ['0022301162', 1], ['0022301161', 1], ['0022301165', 1], ['0022301158', 1]]\n",
      "['0022301164', '0022301159', '0022301160', '0022301163', '0022301162', '0022301161', '0022301165', '0022301158']\n"
     ]
    }
   ],
   "source": [
    "# Query nba.live.endpoints.scoreboard and  list games in localTimeZone\n",
    "from datetime import datetime, timezone\n",
    "from dateutil import parser\n",
    "# from nba_api.live.nba.endpoints import scoreboard\n",
    "from nba_api.stats.endpoints import scoreboardv2\n",
    "from nba_api.stats.endpoints.boxscoresummaryv2 import BoxScoreSummaryV2\n",
    "import pandas as pd\n",
    "import numpy as np\n",
    "\n",
    "KEYS_TO_KEEP = {\n",
    "    'otherStatsDF': ['TEAM_ABBREVIATION', 'TIMES_TIED', 'LARGEST_LEAD'],\n",
    "    'lineScoreDF': ['TEAM_WINS_LOSSES', 'PTS_QTR1', 'PTS_QTR2', 'PTS_QTR3', 'PTS_QTR4', 'PTS_OT1', 'PTS_OT2', 'PTS_OT3', 'PTS_OT4', 'PTS']\n",
    "}\n",
    "\n",
    "f = \"{gameId}: {awayTeam} vs. {homeTeam}\" \n",
    "\n",
    "board = scoreboardv2.ScoreboardV2(day_offset=-1)\n",
    "print(board.available.get_dict()[\"data\"])\n",
    "games = [item[0] for item in board.available.get_dict()[\"data\"]]\n",
    "print(games)"
   ]
  },
  {
   "cell_type": "code",
   "execution_count": 82,
   "metadata": {},
   "outputs": [
    {
     "name": "stdout",
     "output_type": "stream",
     "text": [
      "0022301159\n"
     ]
    }
   ],
   "source": [
    "### MAIN LABELS ###\n",
    "NECK_TO_NECK = 'Neck to Neck'\n",
    "COMEBACK = 'Comeback'\n",
    "DOWN_TO_THE_WIRE = 'Down to the wire'\n",
    "\n",
    "#for game in games:\n",
    "print(games[1])\n",
    "final_labels = []\n",
    "\n",
    "box = BoxScoreSummaryV2(games[1])\n",
    "box_dict = box.get_dict()"
   ]
  },
  {
   "cell_type": "code",
   "execution_count": 83,
   "metadata": {},
   "outputs": [
    {
     "name": "stdout",
     "output_type": "stream",
     "text": [
      "CHA-ATL\n",
      "['Down to the wire', 'Comeback']\n"
     ]
    }
   ],
   "source": [
    "final_labels = []\n",
    "# Filtered result sets\n",
    "otherStats = next(resultSet for resultSet in box_dict['resultSets'] if resultSet['name'] == 'OtherStats')\n",
    "lineScore = next(resultSet for resultSet in box_dict['resultSets'] if resultSet['name'] == 'LineScore')\n",
    "\n",
    "# Creating DataFrames\n",
    "otherStatsDF = pd.DataFrame(otherStats['rowSet'], columns=otherStats['headers'])\n",
    "lineScoreDF = pd.DataFrame(lineScore['rowSet'], columns=lineScore['headers'])\n",
    "\n",
    "# Filter for relevant keys\n",
    "workDF = pd.concat([otherStatsDF[KEYS_TO_KEEP['otherStatsDF']], lineScoreDF[KEYS_TO_KEEP['lineScoreDF']]], axis=1)\n",
    "\n",
    "####################\n",
    "#### MAIN LOGIC ####\n",
    "####################\n",
    "CLOSE_GAME_LIMIT = 10\n",
    "\n",
    "quarter_diffs = []\n",
    "quarter_scores = []\n",
    "cur_score_A = 0\n",
    "cur_score_B = 0\n",
    "\n",
    "### LABEL NECK_TO_NECK ###\n",
    "# Calculate the difference in scores at the end of each quarter\n",
    "for i in range(1, 5):\n",
    "    cur_score_A += workDF.iloc[0][f'PTS_QTR{i}']\n",
    "    cur_score_B += workDF.iloc[1][f'PTS_QTR{i}']\n",
    "    quarter_scores.append([cur_score_A, cur_score_B])\n",
    "    quarter_diffs.append(abs(cur_score_A - cur_score_B))\n",
    "# If no lead was bigger then Y and end difference smaller then X\n",
    "if (workDF['LARGEST_LEAD'] < 10).all():\n",
    "    final_labels.append(NECK_TO_NECK)\n",
    "\n",
    "### LABEL DOWN TO THE WIRE ###\n",
    "third_quarter_score = quarter_scores[2]\n",
    "fourth_quarter_score = quarter_scores[3]\n",
    "if np.abs(fourth_quarter_score[0] - fourth_quarter_score[1]) < 7:\n",
    "    final_labels.append(DOWN_TO_THE_WIRE)\n",
    "\n",
    "### LABEL COMEBACK ###\n",
    "third_quarter_leader = third_quarter_score.index(max(third_quarter_score))\n",
    "fourth_quarter_leader = fourth_quarter_score.index(max(fourth_quarter_score))\n",
    "\n",
    "# If lead of Team A in third quarter is larger then 10 but Team B wins\n",
    "if np.abs(third_quarter_score[0] - third_quarter_score[1]) > 10 and third_quarter_leader is not fourth_quarter_leader:\n",
    "    final_labels.append(COMEBACK)\n",
    "\n",
    "print('-'.join(workDF['TEAM_ABBREVIATION']))\n",
    "print(final_labels)"
   ]
  },
  {
   "cell_type": "code",
   "execution_count": 75,
   "metadata": {},
   "outputs": [
    {
     "data": {
      "text/html": [
       "<div>\n",
       "<style scoped>\n",
       "    .dataframe tbody tr th:only-of-type {\n",
       "        vertical-align: middle;\n",
       "    }\n",
       "\n",
       "    .dataframe tbody tr th {\n",
       "        vertical-align: top;\n",
       "    }\n",
       "\n",
       "    .dataframe thead th {\n",
       "        text-align: right;\n",
       "    }\n",
       "</style>\n",
       "<table border=\"1\" class=\"dataframe\">\n",
       "  <thead>\n",
       "    <tr style=\"text-align: right;\">\n",
       "      <th></th>\n",
       "      <th>TEAM_ABBREVIATION</th>\n",
       "      <th>TIMES_TIED</th>\n",
       "      <th>LARGEST_LEAD</th>\n",
       "      <th>TEAM_WINS_LOSSES</th>\n",
       "      <th>PTS_QTR1</th>\n",
       "      <th>PTS_QTR2</th>\n",
       "      <th>PTS_QTR3</th>\n",
       "      <th>PTS_QTR4</th>\n",
       "      <th>PTS_OT1</th>\n",
       "      <th>PTS_OT2</th>\n",
       "      <th>PTS_OT3</th>\n",
       "      <th>PTS_OT4</th>\n",
       "      <th>PTS</th>\n",
       "    </tr>\n",
       "  </thead>\n",
       "  <tbody>\n",
       "    <tr>\n",
       "      <th>0</th>\n",
       "      <td>CHA</td>\n",
       "      <td>7</td>\n",
       "      <td>6</td>\n",
       "      <td>20-60</td>\n",
       "      <td>30</td>\n",
       "      <td>25</td>\n",
       "      <td>22</td>\n",
       "      <td>38</td>\n",
       "      <td>0</td>\n",
       "      <td>0</td>\n",
       "      <td>0</td>\n",
       "      <td>0</td>\n",
       "      <td>115</td>\n",
       "    </tr>\n",
       "    <tr>\n",
       "      <th>1</th>\n",
       "      <td>ATL</td>\n",
       "      <td>7</td>\n",
       "      <td>18</td>\n",
       "      <td>36-44</td>\n",
       "      <td>35</td>\n",
       "      <td>26</td>\n",
       "      <td>31</td>\n",
       "      <td>22</td>\n",
       "      <td>0</td>\n",
       "      <td>0</td>\n",
       "      <td>0</td>\n",
       "      <td>0</td>\n",
       "      <td>114</td>\n",
       "    </tr>\n",
       "  </tbody>\n",
       "</table>\n",
       "</div>"
      ],
      "text/plain": [
       "  TEAM_ABBREVIATION  TIMES_TIED  LARGEST_LEAD TEAM_WINS_LOSSES  PTS_QTR1  \\\n",
       "0               CHA           7             6            20-60        30   \n",
       "1               ATL           7            18            36-44        35   \n",
       "\n",
       "   PTS_QTR2  PTS_QTR3  PTS_QTR4  PTS_OT1  PTS_OT2  PTS_OT3  PTS_OT4  PTS  \n",
       "0        25        22        38        0        0        0        0  115  \n",
       "1        26        31        22        0        0        0        0  114  "
      ]
     },
     "execution_count": 75,
     "metadata": {},
     "output_type": "execute_result"
    }
   ],
   "source": [
    "workDF.head()"
   ]
  },
  {
   "cell_type": "markdown",
   "metadata": {},
   "source": []
  },
  {
   "cell_type": "code",
   "execution_count": 53,
   "metadata": {},
   "outputs": [
    {
     "name": "stdout",
     "output_type": "stream",
     "text": [
      "['Close game']\n"
     ]
    }
   ],
   "source": []
  },
  {
   "cell_type": "code",
   "execution_count": null,
   "metadata": {},
   "outputs": [],
   "source": []
  }
 ],
 "metadata": {
  "kernelspec": {
   "display_name": "Python 3",
   "language": "python",
   "name": "python3"
  },
  "language_info": {
   "codemirror_mode": {
    "name": "ipython",
    "version": 3
   },
   "file_extension": ".py",
   "mimetype": "text/x-python",
   "name": "python",
   "nbconvert_exporter": "python",
   "pygments_lexer": "ipython3",
   "version": "3.9.2"
  }
 },
 "nbformat": 4,
 "nbformat_minor": 2
}
